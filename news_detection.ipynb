{
 "cells": [
  {
   "cell_type": "code",
   "execution_count": 21,
   "id": "97d77ecc",
   "metadata": {},
   "outputs": [],
   "source": [
    "import pandas as pd \n",
    "import numpy as np \n",
    "from sklearn.feature_extraction.text import TfidfVectorizer\n",
    "from sklearn.model_selection import train_test_split\n",
    "from sklearn.linear_model import LogisticRegression  #model= logistic regression \n",
    "from sklearn.metrics import accuracy_score, classification_report, confusion_matrix\n",
    "\n",
    "fake= pd.read_csv(\"fake.csv\")\n",
    "real=pd.read_csv(\"true.csv\")"
   ]
  },
  {
   "cell_type": "code",
   "execution_count": 22,
   "id": "50df3d46",
   "metadata": {},
   "outputs": [],
   "source": [
    "#data cleaning \n",
    "   #in data cleaning we load the dataset , see if the dataset is really loaded with the help of head or samples then we label the \n",
    "   # data for example here fake will be labled as 0 and real as 1 and remove the rows that we dont need  in our project \n",
    "   #and only the rows and coloms that we will use and then again check the now data by using head or samples and then adding two dataset\n",
    "   #  if there is two in one frame after that  we can movve to data preprocessing this is the basic load method of data cleaning\n"
   ]
  },
  {
   "cell_type": "code",
   "execution_count": 23,
   "id": "938a623e",
   "metadata": {},
   "outputs": [
    {
     "data": {
      "text/html": [
       "<div>\n",
       "<style scoped>\n",
       "    .dataframe tbody tr th:only-of-type {\n",
       "        vertical-align: middle;\n",
       "    }\n",
       "\n",
       "    .dataframe tbody tr th {\n",
       "        vertical-align: top;\n",
       "    }\n",
       "\n",
       "    .dataframe thead th {\n",
       "        text-align: right;\n",
       "    }\n",
       "</style>\n",
       "<table border=\"1\" class=\"dataframe\">\n",
       "  <thead>\n",
       "    <tr style=\"text-align: right;\">\n",
       "      <th></th>\n",
       "      <th>title</th>\n",
       "      <th>text</th>\n",
       "      <th>subject</th>\n",
       "      <th>date</th>\n",
       "    </tr>\n",
       "  </thead>\n",
       "  <tbody>\n",
       "    <tr>\n",
       "      <th>17568</th>\n",
       "      <td>Senior Quds force commander says Trump's threa...</td>\n",
       "      <td>ANKARA (Reuters) - U.S. President Donald Trump...</td>\n",
       "      <td>worldnews</td>\n",
       "      <td>October 13, 2017</td>\n",
       "    </tr>\n",
       "    <tr>\n",
       "      <th>16664</th>\n",
       "      <td>Tillerson urges Iraq, Kurds to resolve conflic...</td>\n",
       "      <td>BAGHDAD (Reuters) - U.S. Secretary of State Re...</td>\n",
       "      <td>worldnews</td>\n",
       "      <td>October 23, 2017</td>\n",
       "    </tr>\n",
       "    <tr>\n",
       "      <th>8515</th>\n",
       "      <td>A disenchanted Republican, fearing Trump, laun...</td>\n",
       "      <td>WASHINGTON (Reuters) - A former CIA officer an...</td>\n",
       "      <td>politicsNews</td>\n",
       "      <td>August 8, 2016</td>\n",
       "    </tr>\n",
       "    <tr>\n",
       "      <th>16197</th>\n",
       "      <td>Thai king's remains laid to rest at end of fiv...</td>\n",
       "      <td>BANGKOK (Reuters) - The bones and ashes of Tha...</td>\n",
       "      <td>worldnews</td>\n",
       "      <td>October 29, 2017</td>\n",
       "    </tr>\n",
       "    <tr>\n",
       "      <th>8730</th>\n",
       "      <td>A festival air, and unease, hang over pre-conv...</td>\n",
       "      <td>CLEVELAND (Reuters) - East 4th Street, emblema...</td>\n",
       "      <td>politicsNews</td>\n",
       "      <td>July 17, 2016</td>\n",
       "    </tr>\n",
       "  </tbody>\n",
       "</table>\n",
       "</div>"
      ],
      "text/plain": [
       "                                                   title  \\\n",
       "17568  Senior Quds force commander says Trump's threa...   \n",
       "16664  Tillerson urges Iraq, Kurds to resolve conflic...   \n",
       "8515   A disenchanted Republican, fearing Trump, laun...   \n",
       "16197  Thai king's remains laid to rest at end of fiv...   \n",
       "8730   A festival air, and unease, hang over pre-conv...   \n",
       "\n",
       "                                                    text       subject  \\\n",
       "17568  ANKARA (Reuters) - U.S. President Donald Trump...     worldnews   \n",
       "16664  BAGHDAD (Reuters) - U.S. Secretary of State Re...     worldnews   \n",
       "8515   WASHINGTON (Reuters) - A former CIA officer an...  politicsNews   \n",
       "16197  BANGKOK (Reuters) - The bones and ashes of Tha...     worldnews   \n",
       "8730   CLEVELAND (Reuters) - East 4th Street, emblema...  politicsNews   \n",
       "\n",
       "                    date  \n",
       "17568  October 13, 2017   \n",
       "16664  October 23, 2017   \n",
       "8515     August 8, 2016   \n",
       "16197  October 29, 2017   \n",
       "8730      July 17, 2016   "
      ]
     },
     "execution_count": 23,
     "metadata": {},
     "output_type": "execute_result"
    }
   ],
   "source": [
    "fake.sample(5)\n",
    "real.sample(5)  #gives 5 radom data rows from the dataset \n"
   ]
  },
  {
   "cell_type": "code",
   "execution_count": 24,
   "id": "a23de7f2",
   "metadata": {},
   "outputs": [],
   "source": [
    "fake['model'] = 0\n",
    "real['model'] = 1 # labeling the data 0 for fake and 1 for real\n",
    "\n"
   ]
  },
  {
   "cell_type": "code",
   "execution_count": 25,
   "id": "a15f936b",
   "metadata": {},
   "outputs": [
    {
     "data": {
      "text/html": [
       "<div>\n",
       "<style scoped>\n",
       "    .dataframe tbody tr th:only-of-type {\n",
       "        vertical-align: middle;\n",
       "    }\n",
       "\n",
       "    .dataframe tbody tr th {\n",
       "        vertical-align: top;\n",
       "    }\n",
       "\n",
       "    .dataframe thead th {\n",
       "        text-align: right;\n",
       "    }\n",
       "</style>\n",
       "<table border=\"1\" class=\"dataframe\">\n",
       "  <thead>\n",
       "    <tr style=\"text-align: right;\">\n",
       "      <th></th>\n",
       "      <th>title</th>\n",
       "      <th>text</th>\n",
       "      <th>subject</th>\n",
       "      <th>date</th>\n",
       "      <th>model</th>\n",
       "    </tr>\n",
       "  </thead>\n",
       "  <tbody>\n",
       "    <tr>\n",
       "      <th>0</th>\n",
       "      <td>As U.S. budget fight looms, Republicans flip t...</td>\n",
       "      <td>WASHINGTON (Reuters) - The head of a conservat...</td>\n",
       "      <td>politicsNews</td>\n",
       "      <td>December 31, 2017</td>\n",
       "      <td>1</td>\n",
       "    </tr>\n",
       "    <tr>\n",
       "      <th>1</th>\n",
       "      <td>U.S. military to accept transgender recruits o...</td>\n",
       "      <td>WASHINGTON (Reuters) - Transgender people will...</td>\n",
       "      <td>politicsNews</td>\n",
       "      <td>December 29, 2017</td>\n",
       "      <td>1</td>\n",
       "    </tr>\n",
       "    <tr>\n",
       "      <th>2</th>\n",
       "      <td>Senior U.S. Republican senator: 'Let Mr. Muell...</td>\n",
       "      <td>WASHINGTON (Reuters) - The special counsel inv...</td>\n",
       "      <td>politicsNews</td>\n",
       "      <td>December 31, 2017</td>\n",
       "      <td>1</td>\n",
       "    </tr>\n",
       "    <tr>\n",
       "      <th>3</th>\n",
       "      <td>FBI Russia probe helped by Australian diplomat...</td>\n",
       "      <td>WASHINGTON (Reuters) - Trump campaign adviser ...</td>\n",
       "      <td>politicsNews</td>\n",
       "      <td>December 30, 2017</td>\n",
       "      <td>1</td>\n",
       "    </tr>\n",
       "    <tr>\n",
       "      <th>4</th>\n",
       "      <td>Trump wants Postal Service to charge 'much mor...</td>\n",
       "      <td>SEATTLE/WASHINGTON (Reuters) - President Donal...</td>\n",
       "      <td>politicsNews</td>\n",
       "      <td>December 29, 2017</td>\n",
       "      <td>1</td>\n",
       "    </tr>\n",
       "  </tbody>\n",
       "</table>\n",
       "</div>"
      ],
      "text/plain": [
       "                                               title  \\\n",
       "0  As U.S. budget fight looms, Republicans flip t...   \n",
       "1  U.S. military to accept transgender recruits o...   \n",
       "2  Senior U.S. Republican senator: 'Let Mr. Muell...   \n",
       "3  FBI Russia probe helped by Australian diplomat...   \n",
       "4  Trump wants Postal Service to charge 'much mor...   \n",
       "\n",
       "                                                text       subject  \\\n",
       "0  WASHINGTON (Reuters) - The head of a conservat...  politicsNews   \n",
       "1  WASHINGTON (Reuters) - Transgender people will...  politicsNews   \n",
       "2  WASHINGTON (Reuters) - The special counsel inv...  politicsNews   \n",
       "3  WASHINGTON (Reuters) - Trump campaign adviser ...  politicsNews   \n",
       "4  SEATTLE/WASHINGTON (Reuters) - President Donal...  politicsNews   \n",
       "\n",
       "                 date  model  \n",
       "0  December 31, 2017       1  \n",
       "1  December 29, 2017       1  \n",
       "2  December 31, 2017       1  \n",
       "3  December 30, 2017       1  \n",
       "4  December 29, 2017       1  "
      ]
     },
     "execution_count": 25,
     "metadata": {},
     "output_type": "execute_result"
    }
   ],
   "source": [
    "\n",
    "real.head() #gives the first 5 rows of the dataset\n"
   ]
  },
  {
   "cell_type": "code",
   "execution_count": 26,
   "id": "e788a377",
   "metadata": {},
   "outputs": [
    {
     "data": {
      "text/html": [
       "<div>\n",
       "<style scoped>\n",
       "    .dataframe tbody tr th:only-of-type {\n",
       "        vertical-align: middle;\n",
       "    }\n",
       "\n",
       "    .dataframe tbody tr th {\n",
       "        vertical-align: top;\n",
       "    }\n",
       "\n",
       "    .dataframe thead th {\n",
       "        text-align: right;\n",
       "    }\n",
       "</style>\n",
       "<table border=\"1\" class=\"dataframe\">\n",
       "  <thead>\n",
       "    <tr style=\"text-align: right;\">\n",
       "      <th></th>\n",
       "      <th>title</th>\n",
       "      <th>text</th>\n",
       "      <th>subject</th>\n",
       "      <th>date</th>\n",
       "      <th>model</th>\n",
       "    </tr>\n",
       "  </thead>\n",
       "  <tbody>\n",
       "    <tr>\n",
       "      <th>0</th>\n",
       "      <td>Donald Trump Sends Out Embarrassing New Year’...</td>\n",
       "      <td>Donald Trump just couldn t wish all Americans ...</td>\n",
       "      <td>News</td>\n",
       "      <td>December 31, 2017</td>\n",
       "      <td>0</td>\n",
       "    </tr>\n",
       "    <tr>\n",
       "      <th>1</th>\n",
       "      <td>Drunk Bragging Trump Staffer Started Russian ...</td>\n",
       "      <td>House Intelligence Committee Chairman Devin Nu...</td>\n",
       "      <td>News</td>\n",
       "      <td>December 31, 2017</td>\n",
       "      <td>0</td>\n",
       "    </tr>\n",
       "    <tr>\n",
       "      <th>2</th>\n",
       "      <td>Sheriff David Clarke Becomes An Internet Joke...</td>\n",
       "      <td>On Friday, it was revealed that former Milwauk...</td>\n",
       "      <td>News</td>\n",
       "      <td>December 30, 2017</td>\n",
       "      <td>0</td>\n",
       "    </tr>\n",
       "    <tr>\n",
       "      <th>3</th>\n",
       "      <td>Trump Is So Obsessed He Even Has Obama’s Name...</td>\n",
       "      <td>On Christmas day, Donald Trump announced that ...</td>\n",
       "      <td>News</td>\n",
       "      <td>December 29, 2017</td>\n",
       "      <td>0</td>\n",
       "    </tr>\n",
       "    <tr>\n",
       "      <th>4</th>\n",
       "      <td>Pope Francis Just Called Out Donald Trump Dur...</td>\n",
       "      <td>Pope Francis used his annual Christmas Day mes...</td>\n",
       "      <td>News</td>\n",
       "      <td>December 25, 2017</td>\n",
       "      <td>0</td>\n",
       "    </tr>\n",
       "  </tbody>\n",
       "</table>\n",
       "</div>"
      ],
      "text/plain": [
       "                                               title  \\\n",
       "0   Donald Trump Sends Out Embarrassing New Year’...   \n",
       "1   Drunk Bragging Trump Staffer Started Russian ...   \n",
       "2   Sheriff David Clarke Becomes An Internet Joke...   \n",
       "3   Trump Is So Obsessed He Even Has Obama’s Name...   \n",
       "4   Pope Francis Just Called Out Donald Trump Dur...   \n",
       "\n",
       "                                                text subject  \\\n",
       "0  Donald Trump just couldn t wish all Americans ...    News   \n",
       "1  House Intelligence Committee Chairman Devin Nu...    News   \n",
       "2  On Friday, it was revealed that former Milwauk...    News   \n",
       "3  On Christmas day, Donald Trump announced that ...    News   \n",
       "4  Pope Francis used his annual Christmas Day mes...    News   \n",
       "\n",
       "                date  model  \n",
       "0  December 31, 2017      0  \n",
       "1  December 31, 2017      0  \n",
       "2  December 30, 2017      0  \n",
       "3  December 29, 2017      0  \n",
       "4  December 25, 2017      0  "
      ]
     },
     "execution_count": 26,
     "metadata": {},
     "output_type": "execute_result"
    }
   ],
   "source": [
    "fake.head()\n",
    "\n"
   ]
  },
  {
   "cell_type": "code",
   "execution_count": 27,
   "id": "1645803a",
   "metadata": {},
   "outputs": [],
   "source": [
    "#removing subject coloumn and date coloum from both of the data set as i donot want it in future use \n",
    "real.drop(columns = ['subject','date'], inplace =True )\n",
    "fake.drop(columns = ['subject','date'], inplace = True)"
   ]
  },
  {
   "cell_type": "code",
   "execution_count": 28,
   "id": "a0002646",
   "metadata": {},
   "outputs": [],
   "source": [
    "#As i have two dataset im going to combine them\n",
    "news=pd.concat([real,fake],ignore_index = True )"
   ]
  },
  {
   "cell_type": "code",
   "execution_count": 29,
   "id": "0d20e05e",
   "metadata": {},
   "outputs": [
    {
     "data": {
      "text/html": [
       "<div>\n",
       "<style scoped>\n",
       "    .dataframe tbody tr th:only-of-type {\n",
       "        vertical-align: middle;\n",
       "    }\n",
       "\n",
       "    .dataframe tbody tr th {\n",
       "        vertical-align: top;\n",
       "    }\n",
       "\n",
       "    .dataframe thead th {\n",
       "        text-align: right;\n",
       "    }\n",
       "</style>\n",
       "<table border=\"1\" class=\"dataframe\">\n",
       "  <thead>\n",
       "    <tr style=\"text-align: right;\">\n",
       "      <th></th>\n",
       "      <th>title</th>\n",
       "      <th>text</th>\n",
       "      <th>model</th>\n",
       "    </tr>\n",
       "  </thead>\n",
       "  <tbody>\n",
       "    <tr>\n",
       "      <th>0</th>\n",
       "      <td>As U.S. budget fight looms, Republicans flip t...</td>\n",
       "      <td>WASHINGTON (Reuters) - The head of a conservat...</td>\n",
       "      <td>1</td>\n",
       "    </tr>\n",
       "    <tr>\n",
       "      <th>1</th>\n",
       "      <td>U.S. military to accept transgender recruits o...</td>\n",
       "      <td>WASHINGTON (Reuters) - Transgender people will...</td>\n",
       "      <td>1</td>\n",
       "    </tr>\n",
       "    <tr>\n",
       "      <th>2</th>\n",
       "      <td>Senior U.S. Republican senator: 'Let Mr. Muell...</td>\n",
       "      <td>WASHINGTON (Reuters) - The special counsel inv...</td>\n",
       "      <td>1</td>\n",
       "    </tr>\n",
       "    <tr>\n",
       "      <th>3</th>\n",
       "      <td>FBI Russia probe helped by Australian diplomat...</td>\n",
       "      <td>WASHINGTON (Reuters) - Trump campaign adviser ...</td>\n",
       "      <td>1</td>\n",
       "    </tr>\n",
       "    <tr>\n",
       "      <th>4</th>\n",
       "      <td>Trump wants Postal Service to charge 'much mor...</td>\n",
       "      <td>SEATTLE/WASHINGTON (Reuters) - President Donal...</td>\n",
       "      <td>1</td>\n",
       "    </tr>\n",
       "  </tbody>\n",
       "</table>\n",
       "</div>"
      ],
      "text/plain": [
       "                                               title  \\\n",
       "0  As U.S. budget fight looms, Republicans flip t...   \n",
       "1  U.S. military to accept transgender recruits o...   \n",
       "2  Senior U.S. Republican senator: 'Let Mr. Muell...   \n",
       "3  FBI Russia probe helped by Australian diplomat...   \n",
       "4  Trump wants Postal Service to charge 'much mor...   \n",
       "\n",
       "                                                text  model  \n",
       "0  WASHINGTON (Reuters) - The head of a conservat...      1  \n",
       "1  WASHINGTON (Reuters) - Transgender people will...      1  \n",
       "2  WASHINGTON (Reuters) - The special counsel inv...      1  \n",
       "3  WASHINGTON (Reuters) - Trump campaign adviser ...      1  \n",
       "4  SEATTLE/WASHINGTON (Reuters) - President Donal...      1  "
      ]
     },
     "execution_count": 29,
     "metadata": {},
     "output_type": "execute_result"
    }
   ],
   "source": [
    "news.head() #CHECKING \n"
   ]
  },
  {
   "cell_type": "code",
   "execution_count": 30,
   "id": "9bffbc6b",
   "metadata": {},
   "outputs": [
    {
     "data": {
      "text/html": [
       "<div>\n",
       "<style scoped>\n",
       "    .dataframe tbody tr th:only-of-type {\n",
       "        vertical-align: middle;\n",
       "    }\n",
       "\n",
       "    .dataframe tbody tr th {\n",
       "        vertical-align: top;\n",
       "    }\n",
       "\n",
       "    .dataframe thead th {\n",
       "        text-align: right;\n",
       "    }\n",
       "</style>\n",
       "<table border=\"1\" class=\"dataframe\">\n",
       "  <thead>\n",
       "    <tr style=\"text-align: right;\">\n",
       "      <th></th>\n",
       "      <th>title</th>\n",
       "      <th>text</th>\n",
       "      <th>model</th>\n",
       "    </tr>\n",
       "  </thead>\n",
       "  <tbody>\n",
       "    <tr>\n",
       "      <th>5616</th>\n",
       "      <td>German defense minister to meet U.S.'s Mattis ...</td>\n",
       "      <td>KAUNUS, Lithuania (Reuters) - German Defense M...</td>\n",
       "      <td>1</td>\n",
       "    </tr>\n",
       "    <tr>\n",
       "      <th>35354</th>\n",
       "      <td>UNREAL! OBAMA SPEECH WRITERS Laugh Like Crazy ...</td>\n",
       "      <td>Wow! These guys are so proud of their scummy l...</td>\n",
       "      <td>0</td>\n",
       "    </tr>\n",
       "    <tr>\n",
       "      <th>2485</th>\n",
       "      <td>California deputy attorney general charged wit...</td>\n",
       "      <td>(Reuters) - A California deputy attorney gener...</td>\n",
       "      <td>1</td>\n",
       "    </tr>\n",
       "    <tr>\n",
       "      <th>19932</th>\n",
       "      <td>Euro zone enlargement call sparks backlash in ...</td>\n",
       "      <td>TALLINN (Reuters) - After years of bailing out...</td>\n",
       "      <td>1</td>\n",
       "    </tr>\n",
       "    <tr>\n",
       "      <th>3464</th>\n",
       "      <td>U.N. says U.S. withdrawal from Paris deal 'maj...</td>\n",
       "      <td>UNITED NATIONS (Reuters) - The United States’ ...</td>\n",
       "      <td>1</td>\n",
       "    </tr>\n",
       "  </tbody>\n",
       "</table>\n",
       "</div>"
      ],
      "text/plain": [
       "                                                   title  \\\n",
       "5616   German defense minister to meet U.S.'s Mattis ...   \n",
       "35354  UNREAL! OBAMA SPEECH WRITERS Laugh Like Crazy ...   \n",
       "2485   California deputy attorney general charged wit...   \n",
       "19932  Euro zone enlargement call sparks backlash in ...   \n",
       "3464   U.N. says U.S. withdrawal from Paris deal 'maj...   \n",
       "\n",
       "                                                    text  model  \n",
       "5616   KAUNUS, Lithuania (Reuters) - German Defense M...      1  \n",
       "35354  Wow! These guys are so proud of their scummy l...      0  \n",
       "2485   (Reuters) - A California deputy attorney gener...      1  \n",
       "19932  TALLINN (Reuters) - After years of bailing out...      1  \n",
       "3464   UNITED NATIONS (Reuters) - The United States’ ...      1  "
      ]
     },
     "execution_count": 30,
     "metadata": {},
     "output_type": "execute_result"
    }
   ],
   "source": [
    "news.sample(5) #checking if two dataset connected "
   ]
  },
  {
   "cell_type": "code",
   "execution_count": 31,
   "id": "213c8feb",
   "metadata": {},
   "outputs": [],
   "source": [
    "#now as the loading of the data is done, now we will start with processing the data, the process of\n",
    "# the data is to convert the data into a suitable format for the model to understand and use it to make\n",
    "# predictions. so maybe data cleaning making the words lower case, removing the punctuation,(done to remove !@# etc)\n",
    "#  removing the stop words(filters is an the), removing the special characters, removing the duplicate.\n",
    "# data distribution and more the way you want to test the data."
   ]
  },
  {
   "cell_type": "code",
   "execution_count": 32,
   "id": "e988c2e9",
   "metadata": {},
   "outputs": [
    {
     "name": "stdout",
     "output_type": "stream",
     "text": [
      "<class 'pandas.core.frame.DataFrame'>\n",
      "RangeIndex: 44898 entries, 0 to 44897\n",
      "Data columns (total 3 columns):\n",
      " #   Column  Non-Null Count  Dtype \n",
      "---  ------  --------------  ----- \n",
      " 0   title   44898 non-null  object\n",
      " 1   text    44898 non-null  object\n",
      " 2   model   44898 non-null  int64 \n",
      "dtypes: int64(1), object(2)\n",
      "memory usage: 1.0+ MB\n"
     ]
    }
   ],
   "source": [
    "news.info()"
   ]
  },
  {
   "cell_type": "code",
   "execution_count": 33,
   "id": "a824bcb0",
   "metadata": {},
   "outputs": [],
   "source": [
    "def clean_data(news):\n",
    "    news = re.sub(r'[^a-z\\s]+' , ' ', news.lower()) #removed the special characters and put the space instead and others  to lower case\n",
    "    news = ' '.join(news.split()) #spilt put every letters spearated by a comma then join makes them as one sentence "
   ]
  },
  {
   "cell_type": "code",
   "execution_count": 34,
   "id": "ce76a52b",
   "metadata": {},
   "outputs": [
    {
     "data": {
      "text/plain": [
       "title    0\n",
       "text     0\n",
       "model    0\n",
       "dtype: int64"
      ]
     },
     "execution_count": 34,
     "metadata": {},
     "output_type": "execute_result"
    }
   ],
   "source": [
    "news.isnull().sum() #SEES if theree is any missing value or 0 in data if there is sum will be true and the total count will e given\n"
   ]
  },
  {
   "cell_type": "code",
   "execution_count": 35,
   "id": "e87f8925",
   "metadata": {},
   "outputs": [
    {
     "data": {
      "text/plain": [
       "np.int64(5793)"
      ]
     },
     "execution_count": 35,
     "metadata": {},
     "output_type": "execute_result"
    }
   ],
   "source": [
    "news.duplicated().sum() #sees if there  is any duplicate and count it "
   ]
  },
  {
   "cell_type": "code",
   "execution_count": 36,
   "id": "718833eb",
   "metadata": {},
   "outputs": [],
   "source": [
    "news.drop_duplicates(inplace = True)"
   ]
  },
  {
   "cell_type": "code",
   "execution_count": 37,
   "id": "19840f3e",
   "metadata": {},
   "outputs": [
    {
     "data": {
      "text/plain": [
       "np.int64(0)"
      ]
     },
     "execution_count": 37,
     "metadata": {},
     "output_type": "execute_result"
    }
   ],
   "source": [
    "news.duplicated().sum()"
   ]
  },
  {
   "cell_type": "code",
   "execution_count": 38,
   "id": "3c0c1824",
   "metadata": {},
   "outputs": [],
   "source": [
    "#for preprocessing we can also make tf-tdf it makes common word like the ,an has low value and non common word has high value and low value words \n",
    "# can be removed its full form is term frequency inverse document frequency."
   ]
  },
  {
   "cell_type": "code",
   "execution_count": 39,
   "id": "45e7129c",
   "metadata": {},
   "outputs": [],
   "source": [
    "#now as the preprocessing is done now we choose a model, train them ,and find the acuuracy of our model and then we also make the accuracy\n",
    "#  score highter if it turns out to be low."
   ]
  },
  {
   "cell_type": "code",
   "execution_count": 40,
   "id": "2c52998e",
   "metadata": {},
   "outputs": [],
   "source": [
    "#Convert raw text (news articles) into numerical features that can be used by machine learning models (like Logistic Regression).\n"
   ]
  },
  {
   "cell_type": "code",
   "execution_count": null,
   "id": "e1b9e759",
   "metadata": {},
   "outputs": [],
   "source": [
    "vectorizer = TfidfVectorizer(stop_words='english', max_df=0.7) #eng means a, an, the .if the word appears in 70 % of the documents it will be ignored\n",
    "X = vectorizer.fit_transform(news) #fit read all data and trasform Converts each document into a sparse vector — mostly zeros\n",
    "levels= news['model'] \n",
    "y = levels#Assign the labels (real/fake) for model training\n"
   ]
  }
 ],
 "metadata": {
  "kernelspec": {
   "display_name": "Python 3",
   "language": "python",
   "name": "python3"
  },
  "language_info": {
   "codemirror_mode": {
    "name": "ipython",
    "version": 3
   },
   "file_extension": ".py",
   "mimetype": "text/x-python",
   "name": "python",
   "nbconvert_exporter": "python",
   "pygments_lexer": "ipython3",
   "version": "3.12.4"
  }
 },
 "nbformat": 4,
 "nbformat_minor": 5
}
