{
 "cells": [
  {
   "cell_type": "code",
   "execution_count": 2,
   "id": "97d77ecc",
   "metadata": {},
   "outputs": [],
   "source": [
    "import pandas as pd \n",
    "import numpy as np \n",
    "from sklearn.feature_extraction.text import TfidfVectorizer\n",
    "from sklearn.model_selection import train_test_split\n",
    "from sklearn.linear_model import LogisticRegression  #model= logistic regression \n",
    "from sklearn.metrics import accuracy_score, classification_report, confusion_matrix\n",
    "from sklearn.model_selection import cross_val_score\n",
    "\n",
    "\n",
    "fake= pd.read_csv(\"fake.csv\")\n",
    "real=pd.read_csv(\"true.csv\")"
   ]
  },
  {
   "cell_type": "code",
   "execution_count": 3,
   "id": "50df3d46",
   "metadata": {},
   "outputs": [],
   "source": [
    "#data cleaning \n",
    "   #in data cleaning we load the dataset , see if the dataset is really loaded with the help of head or samples then we label the \n",
    "   # data for example here fake will be labled as 0 and real as 1 and remove the rows that we dont need  in our project \n",
    "   #and only the rows and coloms that we will use and then again check the now data by using head or samples and then adding two dataset\n",
    "   #  if there is two in one frame after that  we can movve to data preprocessing this is the basic load method of data cleaning\n"
   ]
  },
  {
   "cell_type": "code",
   "execution_count": 4,
   "id": "938a623e",
   "metadata": {},
   "outputs": [
    {
     "data": {
      "text/html": [
       "<div>\n",
       "<style scoped>\n",
       "    .dataframe tbody tr th:only-of-type {\n",
       "        vertical-align: middle;\n",
       "    }\n",
       "\n",
       "    .dataframe tbody tr th {\n",
       "        vertical-align: top;\n",
       "    }\n",
       "\n",
       "    .dataframe thead th {\n",
       "        text-align: right;\n",
       "    }\n",
       "</style>\n",
       "<table border=\"1\" class=\"dataframe\">\n",
       "  <thead>\n",
       "    <tr style=\"text-align: right;\">\n",
       "      <th></th>\n",
       "      <th>title</th>\n",
       "      <th>text</th>\n",
       "      <th>subject</th>\n",
       "      <th>date</th>\n",
       "    </tr>\n",
       "  </thead>\n",
       "  <tbody>\n",
       "    <tr>\n",
       "      <th>21084</th>\n",
       "      <td>Not again! German media bemoan grand coalition...</td>\n",
       "      <td>BERLIN (Reuters) - A mood of pre-election apat...</td>\n",
       "      <td>worldnews</td>\n",
       "      <td>September 4, 2017</td>\n",
       "    </tr>\n",
       "    <tr>\n",
       "      <th>4254</th>\n",
       "      <td>Trump to host Italian prime minister on April 20</td>\n",
       "      <td>WASHINGTON (Reuters) - President Donald Trump ...</td>\n",
       "      <td>politicsNews</td>\n",
       "      <td>April 13, 2017</td>\n",
       "    </tr>\n",
       "    <tr>\n",
       "      <th>19831</th>\n",
       "      <td>Tillerson says U.S. weighing closing embassy i...</td>\n",
       "      <td>WASHINGTON (Reuters) - The United States is co...</td>\n",
       "      <td>worldnews</td>\n",
       "      <td>September 17, 2017</td>\n",
       "    </tr>\n",
       "    <tr>\n",
       "      <th>11417</th>\n",
       "      <td>Three Turkish soldiers killed in southeast: mi...</td>\n",
       "      <td>ANKARA (Reuters) - Two soldiers were killed an...</td>\n",
       "      <td>worldnews</td>\n",
       "      <td>December 25, 2017</td>\n",
       "    </tr>\n",
       "    <tr>\n",
       "      <th>2022</th>\n",
       "      <td>California lawmakers consider spending billion...</td>\n",
       "      <td>SAN FRANCISCO (Reuters) - Affordable housing a...</td>\n",
       "      <td>politicsNews</td>\n",
       "      <td>August 25, 2017</td>\n",
       "    </tr>\n",
       "  </tbody>\n",
       "</table>\n",
       "</div>"
      ],
      "text/plain": [
       "                                                   title  \\\n",
       "21084  Not again! German media bemoan grand coalition...   \n",
       "4254    Trump to host Italian prime minister on April 20   \n",
       "19831  Tillerson says U.S. weighing closing embassy i...   \n",
       "11417  Three Turkish soldiers killed in southeast: mi...   \n",
       "2022   California lawmakers consider spending billion...   \n",
       "\n",
       "                                                    text       subject  \\\n",
       "21084  BERLIN (Reuters) - A mood of pre-election apat...     worldnews   \n",
       "4254   WASHINGTON (Reuters) - President Donald Trump ...  politicsNews   \n",
       "19831  WASHINGTON (Reuters) - The United States is co...     worldnews   \n",
       "11417  ANKARA (Reuters) - Two soldiers were killed an...     worldnews   \n",
       "2022   SAN FRANCISCO (Reuters) - Affordable housing a...  politicsNews   \n",
       "\n",
       "                      date  \n",
       "21084   September 4, 2017   \n",
       "4254       April 13, 2017   \n",
       "19831  September 17, 2017   \n",
       "11417   December 25, 2017   \n",
       "2022      August 25, 2017   "
      ]
     },
     "execution_count": 4,
     "metadata": {},
     "output_type": "execute_result"
    }
   ],
   "source": [
    "fake.sample(5)\n",
    "real.sample(5)  #gives 5 radom data rows from the dataset \n"
   ]
  },
  {
   "cell_type": "code",
   "execution_count": 5,
   "id": "a23de7f2",
   "metadata": {},
   "outputs": [],
   "source": [
    "fake['model'] = 0\n",
    "real['model'] = 1 # labeling the data 0 for fake and 1 for real\n",
    "\n"
   ]
  },
  {
   "cell_type": "code",
   "execution_count": 6,
   "id": "a15f936b",
   "metadata": {},
   "outputs": [
    {
     "data": {
      "text/html": [
       "<div>\n",
       "<style scoped>\n",
       "    .dataframe tbody tr th:only-of-type {\n",
       "        vertical-align: middle;\n",
       "    }\n",
       "\n",
       "    .dataframe tbody tr th {\n",
       "        vertical-align: top;\n",
       "    }\n",
       "\n",
       "    .dataframe thead th {\n",
       "        text-align: right;\n",
       "    }\n",
       "</style>\n",
       "<table border=\"1\" class=\"dataframe\">\n",
       "  <thead>\n",
       "    <tr style=\"text-align: right;\">\n",
       "      <th></th>\n",
       "      <th>title</th>\n",
       "      <th>text</th>\n",
       "      <th>subject</th>\n",
       "      <th>date</th>\n",
       "      <th>model</th>\n",
       "    </tr>\n",
       "  </thead>\n",
       "  <tbody>\n",
       "    <tr>\n",
       "      <th>0</th>\n",
       "      <td>As U.S. budget fight looms, Republicans flip t...</td>\n",
       "      <td>WASHINGTON (Reuters) - The head of a conservat...</td>\n",
       "      <td>politicsNews</td>\n",
       "      <td>December 31, 2017</td>\n",
       "      <td>1</td>\n",
       "    </tr>\n",
       "    <tr>\n",
       "      <th>1</th>\n",
       "      <td>U.S. military to accept transgender recruits o...</td>\n",
       "      <td>WASHINGTON (Reuters) - Transgender people will...</td>\n",
       "      <td>politicsNews</td>\n",
       "      <td>December 29, 2017</td>\n",
       "      <td>1</td>\n",
       "    </tr>\n",
       "    <tr>\n",
       "      <th>2</th>\n",
       "      <td>Senior U.S. Republican senator: 'Let Mr. Muell...</td>\n",
       "      <td>WASHINGTON (Reuters) - The special counsel inv...</td>\n",
       "      <td>politicsNews</td>\n",
       "      <td>December 31, 2017</td>\n",
       "      <td>1</td>\n",
       "    </tr>\n",
       "    <tr>\n",
       "      <th>3</th>\n",
       "      <td>FBI Russia probe helped by Australian diplomat...</td>\n",
       "      <td>WASHINGTON (Reuters) - Trump campaign adviser ...</td>\n",
       "      <td>politicsNews</td>\n",
       "      <td>December 30, 2017</td>\n",
       "      <td>1</td>\n",
       "    </tr>\n",
       "    <tr>\n",
       "      <th>4</th>\n",
       "      <td>Trump wants Postal Service to charge 'much mor...</td>\n",
       "      <td>SEATTLE/WASHINGTON (Reuters) - President Donal...</td>\n",
       "      <td>politicsNews</td>\n",
       "      <td>December 29, 2017</td>\n",
       "      <td>1</td>\n",
       "    </tr>\n",
       "  </tbody>\n",
       "</table>\n",
       "</div>"
      ],
      "text/plain": [
       "                                               title  \\\n",
       "0  As U.S. budget fight looms, Republicans flip t...   \n",
       "1  U.S. military to accept transgender recruits o...   \n",
       "2  Senior U.S. Republican senator: 'Let Mr. Muell...   \n",
       "3  FBI Russia probe helped by Australian diplomat...   \n",
       "4  Trump wants Postal Service to charge 'much mor...   \n",
       "\n",
       "                                                text       subject  \\\n",
       "0  WASHINGTON (Reuters) - The head of a conservat...  politicsNews   \n",
       "1  WASHINGTON (Reuters) - Transgender people will...  politicsNews   \n",
       "2  WASHINGTON (Reuters) - The special counsel inv...  politicsNews   \n",
       "3  WASHINGTON (Reuters) - Trump campaign adviser ...  politicsNews   \n",
       "4  SEATTLE/WASHINGTON (Reuters) - President Donal...  politicsNews   \n",
       "\n",
       "                 date  model  \n",
       "0  December 31, 2017       1  \n",
       "1  December 29, 2017       1  \n",
       "2  December 31, 2017       1  \n",
       "3  December 30, 2017       1  \n",
       "4  December 29, 2017       1  "
      ]
     },
     "execution_count": 6,
     "metadata": {},
     "output_type": "execute_result"
    }
   ],
   "source": [
    "\n",
    "real.head() #gives the first 5 rows of the dataset\n"
   ]
  },
  {
   "cell_type": "code",
   "execution_count": 7,
   "id": "e788a377",
   "metadata": {},
   "outputs": [
    {
     "data": {
      "text/html": [
       "<div>\n",
       "<style scoped>\n",
       "    .dataframe tbody tr th:only-of-type {\n",
       "        vertical-align: middle;\n",
       "    }\n",
       "\n",
       "    .dataframe tbody tr th {\n",
       "        vertical-align: top;\n",
       "    }\n",
       "\n",
       "    .dataframe thead th {\n",
       "        text-align: right;\n",
       "    }\n",
       "</style>\n",
       "<table border=\"1\" class=\"dataframe\">\n",
       "  <thead>\n",
       "    <tr style=\"text-align: right;\">\n",
       "      <th></th>\n",
       "      <th>title</th>\n",
       "      <th>text</th>\n",
       "      <th>subject</th>\n",
       "      <th>date</th>\n",
       "      <th>model</th>\n",
       "    </tr>\n",
       "  </thead>\n",
       "  <tbody>\n",
       "    <tr>\n",
       "      <th>0</th>\n",
       "      <td>Donald Trump Sends Out Embarrassing New Year’...</td>\n",
       "      <td>Donald Trump just couldn t wish all Americans ...</td>\n",
       "      <td>News</td>\n",
       "      <td>December 31, 2017</td>\n",
       "      <td>0</td>\n",
       "    </tr>\n",
       "    <tr>\n",
       "      <th>1</th>\n",
       "      <td>Drunk Bragging Trump Staffer Started Russian ...</td>\n",
       "      <td>House Intelligence Committee Chairman Devin Nu...</td>\n",
       "      <td>News</td>\n",
       "      <td>December 31, 2017</td>\n",
       "      <td>0</td>\n",
       "    </tr>\n",
       "    <tr>\n",
       "      <th>2</th>\n",
       "      <td>Sheriff David Clarke Becomes An Internet Joke...</td>\n",
       "      <td>On Friday, it was revealed that former Milwauk...</td>\n",
       "      <td>News</td>\n",
       "      <td>December 30, 2017</td>\n",
       "      <td>0</td>\n",
       "    </tr>\n",
       "    <tr>\n",
       "      <th>3</th>\n",
       "      <td>Trump Is So Obsessed He Even Has Obama’s Name...</td>\n",
       "      <td>On Christmas day, Donald Trump announced that ...</td>\n",
       "      <td>News</td>\n",
       "      <td>December 29, 2017</td>\n",
       "      <td>0</td>\n",
       "    </tr>\n",
       "    <tr>\n",
       "      <th>4</th>\n",
       "      <td>Pope Francis Just Called Out Donald Trump Dur...</td>\n",
       "      <td>Pope Francis used his annual Christmas Day mes...</td>\n",
       "      <td>News</td>\n",
       "      <td>December 25, 2017</td>\n",
       "      <td>0</td>\n",
       "    </tr>\n",
       "  </tbody>\n",
       "</table>\n",
       "</div>"
      ],
      "text/plain": [
       "                                               title  \\\n",
       "0   Donald Trump Sends Out Embarrassing New Year’...   \n",
       "1   Drunk Bragging Trump Staffer Started Russian ...   \n",
       "2   Sheriff David Clarke Becomes An Internet Joke...   \n",
       "3   Trump Is So Obsessed He Even Has Obama’s Name...   \n",
       "4   Pope Francis Just Called Out Donald Trump Dur...   \n",
       "\n",
       "                                                text subject  \\\n",
       "0  Donald Trump just couldn t wish all Americans ...    News   \n",
       "1  House Intelligence Committee Chairman Devin Nu...    News   \n",
       "2  On Friday, it was revealed that former Milwauk...    News   \n",
       "3  On Christmas day, Donald Trump announced that ...    News   \n",
       "4  Pope Francis used his annual Christmas Day mes...    News   \n",
       "\n",
       "                date  model  \n",
       "0  December 31, 2017      0  \n",
       "1  December 31, 2017      0  \n",
       "2  December 30, 2017      0  \n",
       "3  December 29, 2017      0  \n",
       "4  December 25, 2017      0  "
      ]
     },
     "execution_count": 7,
     "metadata": {},
     "output_type": "execute_result"
    }
   ],
   "source": [
    "fake.head()\n",
    "\n"
   ]
  },
  {
   "cell_type": "code",
   "execution_count": 8,
   "id": "1645803a",
   "metadata": {},
   "outputs": [],
   "source": [
    "#removing subject coloumn and date coloum from both of the data set as i donot want it in future use \n",
    "real.drop(columns = ['subject','date'], inplace =True )\n",
    "fake.drop(columns = ['subject','date'], inplace = True)"
   ]
  },
  {
   "cell_type": "code",
   "execution_count": 9,
   "id": "a0002646",
   "metadata": {},
   "outputs": [],
   "source": [
    "#As i have two dataset im going to combine them\n",
    "news=pd.concat([real,fake],ignore_index = True )"
   ]
  },
  {
   "cell_type": "code",
   "execution_count": 10,
   "id": "0d20e05e",
   "metadata": {},
   "outputs": [
    {
     "data": {
      "text/html": [
       "<div>\n",
       "<style scoped>\n",
       "    .dataframe tbody tr th:only-of-type {\n",
       "        vertical-align: middle;\n",
       "    }\n",
       "\n",
       "    .dataframe tbody tr th {\n",
       "        vertical-align: top;\n",
       "    }\n",
       "\n",
       "    .dataframe thead th {\n",
       "        text-align: right;\n",
       "    }\n",
       "</style>\n",
       "<table border=\"1\" class=\"dataframe\">\n",
       "  <thead>\n",
       "    <tr style=\"text-align: right;\">\n",
       "      <th></th>\n",
       "      <th>title</th>\n",
       "      <th>text</th>\n",
       "      <th>model</th>\n",
       "    </tr>\n",
       "  </thead>\n",
       "  <tbody>\n",
       "    <tr>\n",
       "      <th>0</th>\n",
       "      <td>As U.S. budget fight looms, Republicans flip t...</td>\n",
       "      <td>WASHINGTON (Reuters) - The head of a conservat...</td>\n",
       "      <td>1</td>\n",
       "    </tr>\n",
       "    <tr>\n",
       "      <th>1</th>\n",
       "      <td>U.S. military to accept transgender recruits o...</td>\n",
       "      <td>WASHINGTON (Reuters) - Transgender people will...</td>\n",
       "      <td>1</td>\n",
       "    </tr>\n",
       "    <tr>\n",
       "      <th>2</th>\n",
       "      <td>Senior U.S. Republican senator: 'Let Mr. Muell...</td>\n",
       "      <td>WASHINGTON (Reuters) - The special counsel inv...</td>\n",
       "      <td>1</td>\n",
       "    </tr>\n",
       "    <tr>\n",
       "      <th>3</th>\n",
       "      <td>FBI Russia probe helped by Australian diplomat...</td>\n",
       "      <td>WASHINGTON (Reuters) - Trump campaign adviser ...</td>\n",
       "      <td>1</td>\n",
       "    </tr>\n",
       "    <tr>\n",
       "      <th>4</th>\n",
       "      <td>Trump wants Postal Service to charge 'much mor...</td>\n",
       "      <td>SEATTLE/WASHINGTON (Reuters) - President Donal...</td>\n",
       "      <td>1</td>\n",
       "    </tr>\n",
       "  </tbody>\n",
       "</table>\n",
       "</div>"
      ],
      "text/plain": [
       "                                               title  \\\n",
       "0  As U.S. budget fight looms, Republicans flip t...   \n",
       "1  U.S. military to accept transgender recruits o...   \n",
       "2  Senior U.S. Republican senator: 'Let Mr. Muell...   \n",
       "3  FBI Russia probe helped by Australian diplomat...   \n",
       "4  Trump wants Postal Service to charge 'much mor...   \n",
       "\n",
       "                                                text  model  \n",
       "0  WASHINGTON (Reuters) - The head of a conservat...      1  \n",
       "1  WASHINGTON (Reuters) - Transgender people will...      1  \n",
       "2  WASHINGTON (Reuters) - The special counsel inv...      1  \n",
       "3  WASHINGTON (Reuters) - Trump campaign adviser ...      1  \n",
       "4  SEATTLE/WASHINGTON (Reuters) - President Donal...      1  "
      ]
     },
     "execution_count": 10,
     "metadata": {},
     "output_type": "execute_result"
    }
   ],
   "source": [
    "news.head() #CHECKING \n"
   ]
  },
  {
   "cell_type": "code",
   "execution_count": 11,
   "id": "9bffbc6b",
   "metadata": {},
   "outputs": [
    {
     "data": {
      "text/html": [
       "<div>\n",
       "<style scoped>\n",
       "    .dataframe tbody tr th:only-of-type {\n",
       "        vertical-align: middle;\n",
       "    }\n",
       "\n",
       "    .dataframe tbody tr th {\n",
       "        vertical-align: top;\n",
       "    }\n",
       "\n",
       "    .dataframe thead th {\n",
       "        text-align: right;\n",
       "    }\n",
       "</style>\n",
       "<table border=\"1\" class=\"dataframe\">\n",
       "  <thead>\n",
       "    <tr style=\"text-align: right;\">\n",
       "      <th></th>\n",
       "      <th>title</th>\n",
       "      <th>text</th>\n",
       "      <th>model</th>\n",
       "    </tr>\n",
       "  </thead>\n",
       "  <tbody>\n",
       "    <tr>\n",
       "      <th>29151</th>\n",
       "      <td>Elizabeth Warren Attacked As A Phony Liberal ...</td>\n",
       "      <td>Elizabeth Warren is one of the most popular li...</td>\n",
       "      <td>0</td>\n",
       "    </tr>\n",
       "    <tr>\n",
       "      <th>43664</th>\n",
       "      <td>EP #11: Patrick Henningsen LIVE – ‘Top Trump T...</td>\n",
       "      <td>Join Patrick every Wednesday at Independent Ta...</td>\n",
       "      <td>0</td>\n",
       "    </tr>\n",
       "    <tr>\n",
       "      <th>37393</th>\n",
       "      <td>ACLU DEFENDS ILLEGALS? SUES DOJ, ICE Over Arre...</td>\n",
       "      <td>WHO IS THE ACLU PROTECTING? Certainly not the ...</td>\n",
       "      <td>0</td>\n",
       "    </tr>\n",
       "    <tr>\n",
       "      <th>24079</th>\n",
       "      <td>WHOA: Steve Bannon Tricked Trump Into Handing...</td>\n",
       "      <td>Last week, news broke that white supremacist a...</td>\n",
       "      <td>0</td>\n",
       "    </tr>\n",
       "    <tr>\n",
       "      <th>31027</th>\n",
       "      <td>ZING! SARAH SANDERS Calls Out Sen. Bob Corker ...</td>\n",
       "      <td>Sarah Sanders hit back at Senator Corker today...</td>\n",
       "      <td>0</td>\n",
       "    </tr>\n",
       "  </tbody>\n",
       "</table>\n",
       "</div>"
      ],
      "text/plain": [
       "                                                   title  \\\n",
       "29151   Elizabeth Warren Attacked As A Phony Liberal ...   \n",
       "43664  EP #11: Patrick Henningsen LIVE – ‘Top Trump T...   \n",
       "37393  ACLU DEFENDS ILLEGALS? SUES DOJ, ICE Over Arre...   \n",
       "24079   WHOA: Steve Bannon Tricked Trump Into Handing...   \n",
       "31027  ZING! SARAH SANDERS Calls Out Sen. Bob Corker ...   \n",
       "\n",
       "                                                    text  model  \n",
       "29151  Elizabeth Warren is one of the most popular li...      0  \n",
       "43664  Join Patrick every Wednesday at Independent Ta...      0  \n",
       "37393  WHO IS THE ACLU PROTECTING? Certainly not the ...      0  \n",
       "24079  Last week, news broke that white supremacist a...      0  \n",
       "31027  Sarah Sanders hit back at Senator Corker today...      0  "
      ]
     },
     "execution_count": 11,
     "metadata": {},
     "output_type": "execute_result"
    }
   ],
   "source": [
    "news.sample(5) #checking if two dataset connected "
   ]
  },
  {
   "cell_type": "code",
   "execution_count": 12,
   "id": "213c8feb",
   "metadata": {},
   "outputs": [],
   "source": [
    "#now as the loading of the data is done, now we will start with processing the data, the process of\n",
    "# the data is to convert the data into a suitable format for the model to understand and use it to make\n",
    "# predictions. so maybe data cleaning making the words lower case, removing the punctuation,(done to remove !@# etc)\n",
    "#  removing the stop words(filters is an the), removing the special characters, removing the duplicate.\n",
    "# data distribution and more the way you want to test the data."
   ]
  },
  {
   "cell_type": "code",
   "execution_count": 13,
   "id": "e988c2e9",
   "metadata": {},
   "outputs": [
    {
     "name": "stdout",
     "output_type": "stream",
     "text": [
      "<class 'pandas.core.frame.DataFrame'>\n",
      "RangeIndex: 44898 entries, 0 to 44897\n",
      "Data columns (total 3 columns):\n",
      " #   Column  Non-Null Count  Dtype \n",
      "---  ------  --------------  ----- \n",
      " 0   title   44898 non-null  object\n",
      " 1   text    44898 non-null  object\n",
      " 2   model   44898 non-null  int64 \n",
      "dtypes: int64(1), object(2)\n",
      "memory usage: 1.0+ MB\n"
     ]
    }
   ],
   "source": [
    "news.info()"
   ]
  },
  {
   "cell_type": "code",
   "execution_count": 14,
   "id": "a824bcb0",
   "metadata": {},
   "outputs": [],
   "source": [
    "def clean_data(news):\n",
    "    news = re.sub(r'[^a-z\\s]+' , ' ', news.lower()) #removed the special characters and put the space instead and others  to lower case\n",
    "    news = ' '.join(news.split()) #spilt put every letters spearated by a comma then join makes them as one sentence "
   ]
  },
  {
   "cell_type": "code",
   "execution_count": 15,
   "id": "ce76a52b",
   "metadata": {},
   "outputs": [
    {
     "data": {
      "text/plain": [
       "title    0\n",
       "text     0\n",
       "model    0\n",
       "dtype: int64"
      ]
     },
     "execution_count": 15,
     "metadata": {},
     "output_type": "execute_result"
    }
   ],
   "source": [
    "news.isnull().sum() #SEES if theree is any missing value or 0 in data if there is sum will be true and the total count will e given\n"
   ]
  },
  {
   "cell_type": "code",
   "execution_count": 16,
   "id": "e87f8925",
   "metadata": {},
   "outputs": [
    {
     "data": {
      "text/plain": [
       "np.int64(5793)"
      ]
     },
     "execution_count": 16,
     "metadata": {},
     "output_type": "execute_result"
    }
   ],
   "source": [
    "news.duplicated().sum() #sees if there  is any duplicate and count it "
   ]
  },
  {
   "cell_type": "code",
   "execution_count": 17,
   "id": "718833eb",
   "metadata": {},
   "outputs": [],
   "source": [
    "news.drop_duplicates(inplace = True)"
   ]
  },
  {
   "cell_type": "code",
   "execution_count": 18,
   "id": "19840f3e",
   "metadata": {},
   "outputs": [
    {
     "data": {
      "text/plain": [
       "np.int64(0)"
      ]
     },
     "execution_count": 18,
     "metadata": {},
     "output_type": "execute_result"
    }
   ],
   "source": [
    "news.duplicated().sum()"
   ]
  },
  {
   "cell_type": "code",
   "execution_count": 19,
   "id": "3c0c1824",
   "metadata": {},
   "outputs": [],
   "source": [
    "#for preprocessing we can also make tf-tdf it makes common word like the ,an has low value and non common word has high value and low value words \n",
    "# can be removed its full form is term frequency inverse document frequency."
   ]
  },
  {
   "cell_type": "code",
   "execution_count": 20,
   "id": "45e7129c",
   "metadata": {},
   "outputs": [],
   "source": [
    "#now as the preprocessing is done now we choose a model, train them ,and find the acuuracy of our model and then we also make the accuracy\n",
    "#  score highter if it turns out to be low."
   ]
  },
  {
   "cell_type": "code",
   "execution_count": 21,
   "id": "2c52998e",
   "metadata": {},
   "outputs": [],
   "source": [
    "#Convert raw text (news articles) into numerical features that can be used by machine learning models (like Logistic Regression).\n"
   ]
  },
  {
   "cell_type": "code",
   "execution_count": 22,
   "id": "e1b9e759",
   "metadata": {},
   "outputs": [],
   "source": [
    "vectorizer = TfidfVectorizer(stop_words='english', max_df=0.7) #eng means a, an, the .if the word appears in 70 % of the documents it will be ignored\n",
    "X = vectorizer.fit_transform(news['text'])#data and trasform Converts each document into a sparse vector — mostly zeros\n",
    "levels= news['model'] \n",
    "y = levels#Assign the labels (real/fake) for model training\n"
   ]
  },
  {
   "cell_type": "code",
   "execution_count": 23,
   "id": "ea6c3090",
   "metadata": {},
   "outputs": [],
   "source": [
    "#training dataset and evaluating."
   ]
  },
  {
   "cell_type": "code",
   "execution_count": 24,
   "id": "3ea8529a",
   "metadata": {},
   "outputs": [
    {
     "name": "stdout",
     "output_type": "stream",
     "text": [
      "Accuracy: 0.9838895281933256\n",
      "Classification Report:\n",
      "               precision    recall  f1-score   support\n",
      "\n",
      "           0       0.99      0.98      0.98      3564\n",
      "           1       0.98      0.99      0.99      4257\n",
      "\n",
      "    accuracy                           0.98      7821\n",
      "   macro avg       0.98      0.98      0.98      7821\n",
      "weighted avg       0.98      0.98      0.98      7821\n",
      "\n",
      "Confusion Matrix:\n",
      " [[3486   78]\n",
      " [  48 4209]]\n"
     ]
    }
   ],
   "source": [
    "# Split the data\n",
    "X_train, X_test, y_train, y_test = train_test_split(X, y, test_size=0.2, random_state=42) #test size 0.2 means it will take 20% to test , random state is used to make constant prediction \n",
    "\n",
    "# Create and train the model\n",
    "model = LogisticRegression()\n",
    "model.fit(X_train, y_train)\n",
    "\n",
    "# Predict\n",
    "y_pred = model.predict(X_test)  #we do x_test and not y_test  because x has the data and y olny has the label so prediction from y is useless\n",
    "\n",
    "# Evaluation\n",
    "print(\"Accuracy:\", accuracy_score(y_test, y_pred))\n",
    "print(\"Classification Report:\\n\", classification_report(y_test, y_pred))  #gives metrics such as recision\tOf all predicted real (1), how many were actually real? (TP / (TP + FP))\n",
    "# Recall\tOf all actual real (1), how many did the model catch? (TP / (TP + FN)) F1-Score\tHarmonic mean of precision and recall — balances bothAccuracy\t(TP + TN) / Total — overall correct predictions\n",
    "print(\"Confusion Matrix:\\n\", confusion_matrix(y_test, y_pred)) #shows how many predictions were correct and incorrect in all class eg TP (True Positive): Real news correctly predicted as real.\n",
    "#TN (True Negative): Fake news correctly predicted as fake. FP (False Positive): Fake news wrongly predicted as real. FN (False Negative): Real news wrongly predicted as fake.\n"
   ]
  },
  {
   "cell_type": "code",
   "execution_count": 25,
   "id": "8c431779",
   "metadata": {},
   "outputs": [
    {
     "name": "stdout",
     "output_type": "stream",
     "text": [
      "Cross-validation scores: [0.97967012 0.97545071 0.95742232 0.97174274 0.94348549]\n",
      "Average accuracy: 0.9655542769466819\n",
      "Standard deviation: 0.013331568569544445\n"
     ]
    }
   ],
   "source": [
    "scores = cross_val_score(model, X, y, cv=5, scoring='accuracy')\n",
    "print(\"Cross-validation scores:\", scores)\n",
    "print(\"Average accuracy:\", scores.mean())\n",
    "print(\"Standard deviation:\", scores.std())\n"
   ]
  },
  {
   "cell_type": "code",
   "execution_count": 26,
   "id": "dcede8c1",
   "metadata": {},
   "outputs": [
    {
     "data": {
      "text/plain": [
       "['vectorizer.pkl']"
      ]
     },
     "execution_count": 26,
     "metadata": {},
     "output_type": "execute_result"
    }
   ],
   "source": [
    "import joblib\n",
    "\n",
    "joblib.dump(model, 'model.pkl')\n",
    "joblib.dump(vectorizer, 'vectorizer.pkl')\n"
   ]
  }
 ],
 "metadata": {
  "kernelspec": {
   "display_name": "Python 3",
   "language": "python",
   "name": "python3"
  },
  "language_info": {
   "codemirror_mode": {
    "name": "ipython",
    "version": 3
   },
   "file_extension": ".py",
   "mimetype": "text/x-python",
   "name": "python",
   "nbconvert_exporter": "python",
   "pygments_lexer": "ipython3",
   "version": "3.12.4"
  }
 },
 "nbformat": 4,
 "nbformat_minor": 5
}
